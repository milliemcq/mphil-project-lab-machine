{
 "cells": [
  {
   "cell_type": "code",
   "execution_count": 7,
   "metadata": {},
   "outputs": [],
   "source": [
    "import qi\n",
    "import argparse\n",
    "import sys\n",
    "import time\n",
    "\n",
    "ip = \"pepper.local\"\n",
    "port = 9559\n",
    "\n",
    "\n",
    "session = qi.Session()\n",
    "session.connect(\"tcp://\" + ip + \":\" + str(port))\n",
    "\n",
    "asr_service = session.service(\"ALSpeechRecognition\")\n",
    "memory_service = session.service(\"ALMemory\")\n",
    "memory_service.subscriber('WordRecognized')\n",
    "\n",
    "asr_service.pause(True)\n",
    "asr_service.setLanguage(\"English\")\n",
    "vocabulary = [\"yes\", \"no\"]\n",
    "asr_service.setVocabulary(vocabulary, False)\n",
    "asr_service.pause(False)\n",
    "\n"
   ]
  },
  {
   "cell_type": "code",
   "execution_count": 8,
   "metadata": {},
   "outputs": [
    {
     "name": "stdout",
     "output_type": "stream",
     "text": [
      "Speech recognition engine started\n"
     ]
    }
   ],
   "source": [
    "# Start the speech recognition engine with user Test_ASR\n",
    "asr_service.subscribe(\"ASR\")\n",
    "print 'Speech recognition engine started'\n",
    "time.sleep(2)\n",
    "asr_service.unsubscribe(\"ASR\")"
   ]
  },
  {
   "cell_type": "code",
   "execution_count": 9,
   "metadata": {},
   "outputs": [
    {
     "name": "stdout",
     "output_type": "stream",
     "text": [
      "['', -3.0]\n"
     ]
    }
   ],
   "source": [
    "print(memory_service.getData(\"WordRecognized\"))"
   ]
  },
  {
   "cell_type": "code",
   "execution_count": null,
   "metadata": {},
   "outputs": [],
   "source": []
  },
  {
   "cell_type": "code",
   "execution_count": null,
   "metadata": {},
   "outputs": [],
   "source": []
  }
 ],
 "metadata": {
  "kernelspec": {
   "display_name": "Python 2",
   "language": "python",
   "name": "python2"
  },
  "language_info": {
   "codemirror_mode": {
    "name": "ipython",
    "version": 2
   },
   "file_extension": ".py",
   "mimetype": "text/x-python",
   "name": "python",
   "nbconvert_exporter": "python",
   "pygments_lexer": "ipython2",
   "version": "2.7.18"
  }
 },
 "nbformat": 4,
 "nbformat_minor": 2
}
