{
 "cells": [
  {
   "cell_type": "code",
   "execution_count": 1,
   "metadata": {},
   "outputs": [],
   "source": [
    "import qi\n",
    "import argparse\n",
    "import sys\n",
    "import time\n"
   ]
  },
  {
   "cell_type": "code",
   "execution_count": 4,
   "metadata": {},
   "outputs": [
    {
     "name": "stdout",
     "output_type": "stream",
     "text": [
      "Speech recognition engine started\n"
     ]
    }
   ],
   "source": [
    "ip = \"pepper.local\"\n",
    "port = 9559\n",
    "\n",
    "\n",
    "session = qi.Session()\n",
    "session.connect(\"tcp://\" + ip + \":\" + str(port))\n",
    "asr_service = session.service(\"ALSpeechRecognition\")\n",
    "\n",
    "asr_service.setLanguage(\"English\")\n",
    "\n",
    "# Example: Adds \"yes\", \"no\" and \"please\" to the vocabulary (without wordspotting)\n",
    "# vocabulary = [\"yes\", \"no\", \"please\"]\n",
    "# asr_service.setVocabulary(vocabulary, False)\n",
    "\n",
    "# Start the speech recognition engine with user Test_ASR\n",
    "asr_service.subscribe(\"Test_ASR\")\n",
    "print 'Speech recognition engine started'\n",
    "time.sleep(5)\n",
    "asr_service.unsubscribe(\"Test_ASR\")"
   ]
  },
  {
   "cell_type": "code",
   "execution_count": 6,
   "metadata": {},
   "outputs": [],
   "source": [
    "asr_service.subscribe(\"Test_ASR\")\n",
    "time.sleep(5)\n",
    "asr_service.unsubscribe(\"Test_ASR\")"
   ]
  },
  {
   "cell_type": "code",
   "execution_count": null,
   "metadata": {},
   "outputs": [],
   "source": []
  }
 ],
 "metadata": {
  "kernelspec": {
   "display_name": "Python 2",
   "language": "python",
   "name": "python2"
  },
  "language_info": {
   "codemirror_mode": {
    "name": "ipython",
    "version": 2
   },
   "file_extension": ".py",
   "mimetype": "text/x-python",
   "name": "python",
   "nbconvert_exporter": "python",
   "pygments_lexer": "ipython2",
   "version": "2.7.18"
  }
 },
 "nbformat": 4,
 "nbformat_minor": 2
}
