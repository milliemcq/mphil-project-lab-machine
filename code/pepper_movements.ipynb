{
 "cells": [
  {
   "cell_type": "code",
   "execution_count": 30,
   "metadata": {},
   "outputs": [
    {
     "name": "stdout",
     "output_type": "stream",
     "text": [
      "\n",
      "/home/afar/anaconda3/envs/project-py-2/lib/python27.zip\n",
      "/home/afar/anaconda3/envs/project-py-2/lib/python2.7\n",
      "/home/afar/anaconda3/envs/project-py-2/lib/python2.7/plat-linux2\n",
      "/home/afar/anaconda3/envs/project-py-2/lib/python2.7/lib-tk\n",
      "/home/afar/anaconda3/envs/project-py-2/lib/python2.7/lib-old\n",
      "/home/afar/anaconda3/envs/project-py-2/lib/python2.7/lib-dynload\n",
      "/home/afar/anaconda3/envs/project-py-2/lib/python2.7/site-packages\n",
      "/home/afar/Desktop/pynaoqi-python2.7-2.5.7.1-linux64/lib/python2.7/site-packages\n",
      "/home/afar/Desktop/pynaoqi-python2.7-2.5.7.1-linux64\n",
      "/home/afar/Desktop/pynaoqi-python2.7-2.5.7.1-linux64/lib\n",
      "/home/afar/anaconda3/envs/project-py-2/lib/python2.7/site-packages/IPython/extensions\n",
      "/home/afar/.ipython\n"
     ]
    }
   ],
   "source": [
    "import sys\n",
    "print \"\\n\".join(sys.path)"
   ]
  },
  {
   "cell_type": "code",
   "execution_count": 31,
   "metadata": {},
   "outputs": [],
   "source": [
    "from naoqi import ALProxy\n",
    "IP = \"127.0.0.1\"\n",
    "port = 39429"
   ]
  },
  {
   "cell_type": "code",
   "execution_count": 34,
   "metadata": {},
   "outputs": [],
   "source": [
    "tts = ALProxy(\"ALTextToSpeech\", IP, port)\n",
    "move_proxy = ALProxy(\"ALNavigation\", IP, port)\n",
    "motion_proxy = ALProxy('ALMotion', IP, port)\n",
    "\n",
    "# face_proxy = ALProxy(\"ALFaceDetection\", IP, PORT)\n",
    "\n",
    "\n",
    "\n",
    "#Test Connection \n",
    "tts.say(\"Hello, world!\")"
   ]
  },
  {
   "cell_type": "code",
   "execution_count": 29,
   "metadata": {},
   "outputs": [],
   "source": [
    "def pepper_handwave_function(proxy, code):\n",
    "    arms = [\"LArm\", \"RArm\"]\n",
    "    names = \"LArm\"\n",
    "    angles = 30.0*almath.TO_RAD\n",
    "    fractionMaxSpeed = 0.1\n",
    "    proxy.setAngles(names,angles,fractionMaxSpeed)\n",
    "\n",
    "def move_pepper(curr_x, curr_y, action, proxy):\n",
    "    current_speed = 5\n",
    "    speed_codes =  {'U':[1, 1], 'D':[1,-1], 'L':[-5, 0], 'R':[5, 0]}\n",
    "    \n",
    "    action_codes = {'U':[1, 1], 'D':[1,-1], 'L':[-5, 0], 'R':[5, 0]}\n",
    "    \n",
    "#     x_movement = curr_x + action_codes[action][0]\n",
    "#     y_movement = curr_y + action_codes[action][1]\n",
    "    \n",
    "#     proxy.navigateTo(action_codes[action][0], action_codes[action][1])\n",
    "    proxy.moveAlong([\"Holonomic\", [\"Line\", [0.0, -1.0]], 0.0, 1.0])\n",
    "    \n",
    "    \n",
    "\n",
    "def reset_position(proxy):\n",
    "    proxy.navigateTo(1.0, 0.0)\n",
    "\n",
    "def speak(tss, string):\n",
    "    tss.say(string)\n",
    "    \n",
    "    \n",
    "move_pepper(0,0, 'U', move_proxy)\n",
    "    "
   ]
  },
  {
   "cell_type": "code",
   "execution_count": 12,
   "metadata": {},
   "outputs": [],
   "source": [
    "reset_position(move_proxy)\n",
    "pepper_service_questions = [\"How are you finding the service today?\", \n",
    "                            \"Was this service ok?\", \"Did I stand close enough to you?\",\n",
    "                           \"Did I stand to far from you?\", \"Would you like me to move slower?\", \n",
    "                           \"Would you like me to move faster?\"]"
   ]
  },
  {
   "cell_type": "code",
   "execution_count": null,
   "metadata": {},
   "outputs": [],
   "source": [
    "move_proxy.explore(9)\n",
    "print(move_proxy.getMetricalMap())"
   ]
  },
  {
   "cell_type": "code",
   "execution_count": null,
   "metadata": {},
   "outputs": [],
   "source": [
    "move_proxy.navigateTo(2.0, 0.0)"
   ]
  }
 ],
 "metadata": {
  "kernelspec": {
   "display_name": "Python 2",
   "language": "python",
   "name": "python2"
  },
  "language_info": {
   "codemirror_mode": {
    "name": "ipython",
    "version": 2
   },
   "file_extension": ".py",
   "mimetype": "text/x-python",
   "name": "python",
   "nbconvert_exporter": "python",
   "pygments_lexer": "ipython2",
   "version": "2.7.18"
  }
 },
 "nbformat": 4,
 "nbformat_minor": 2
}
