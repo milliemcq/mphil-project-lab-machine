{
 "cells": [
  {
   "cell_type": "code",
   "execution_count": 1,
   "metadata": {},
   "outputs": [
    {
     "name": "stdout",
     "output_type": "stream",
     "text": [
      "\n",
      "/home/afar/anaconda3/envs/project-py-2/lib/python27.zip\n",
      "/home/afar/anaconda3/envs/project-py-2/lib/python2.7\n",
      "/home/afar/anaconda3/envs/project-py-2/lib/python2.7/plat-linux2\n",
      "/home/afar/anaconda3/envs/project-py-2/lib/python2.7/lib-tk\n",
      "/home/afar/anaconda3/envs/project-py-2/lib/python2.7/lib-old\n",
      "/home/afar/anaconda3/envs/project-py-2/lib/python2.7/lib-dynload\n",
      "/home/afar/anaconda3/envs/project-py-2/lib/python2.7/site-packages\n",
      "/home/afar/Desktop/pynaoqi-python2.7-2.5.7.1-linux64/lib/python2.7/site-packages\n",
      "/home/afar/Desktop/pynaoqi-python2.7-2.5.7.1-linux64\n",
      "/home/afar/Desktop/pynaoqi-python2.7-2.5.7.1-linux64/lib\n",
      "/home/afar/anaconda3/envs/project-py-2/lib/python2.7/site-packages/IPython/extensions\n",
      "/home/afar/.ipython\n"
     ]
    }
   ],
   "source": [
    "import sys\n",
    "print \"\\n\".join(sys.path)"
   ]
  },
  {
   "cell_type": "code",
   "execution_count": 2,
   "metadata": {},
   "outputs": [],
   "source": [
    "from naoqi import ALProxy\n",
    "IP = \"127.0.0.1\"\n",
    "port = 40947"
   ]
  },
  {
   "cell_type": "code",
   "execution_count": 3,
   "metadata": {},
   "outputs": [],
   "source": [
    "tts = ALProxy(\"ALTextToSpeech\", IP, port)\n",
    "move_proxy = ALProxy(\"ALNavigation\", IP, port)\n",
    "motion_proxy = ALProxy('ALMotion', IP, port)\n",
    "\n",
    "# face_proxy = ALProxy(\"ALFaceDetection\", IP, PORT)\n",
    "\n",
    "\n",
    "\n",
    "#Test Connection \n",
    "tts.say(\"Hello, world!\")"
   ]
  },
  {
   "cell_type": "code",
   "execution_count": 4,
   "metadata": {},
   "outputs": [],
   "source": [
    "def pepper_handwave_function(proxy, code):\n",
    "    arms = [\"LArm\", \"RArm\"]\n",
    "    names = \"LArm\"\n",
    "    angles = 30.0*almath.TO_RAD\n",
    "    fractionMaxSpeed = 0.1\n",
    "    proxy.setAngles(names,angles,fractionMaxSpeed)\n",
    "\n",
    "def move_pepper(curr_x, curr_y, action, speed_instruction, proxy):\n",
    "    \n",
    "    # Speed is inverse\n",
    "    speed = speed_instruction\n",
    "\n",
    "    codes = {'U':[-1.0, 0.0], 'D':[1.0, 0.0], 'R':[0.0, 1.0], 'L':[0, -1.0]}\n",
    "    movement = codes[action]\n",
    "    \n",
    "    proxy.moveAlong([\"Holonomic\", [\"Line\", movement], 0.0, speed])\n",
    "    \n",
    "    \n",
    "\n",
    "def reset_position(proxy):\n",
    "    proxy.navigateTo(1.0, 0.0)\n",
    "\n",
    "def speak(tss, string):\n",
    "    tss.say(string)\n",
    "    \n",
    "    \n",
    "move_pepper(0, 0, 'L', 0.1, move_proxy)    "
   ]
  },
  {
   "cell_type": "code",
   "execution_count": 5,
   "metadata": {},
   "outputs": [],
   "source": [
    "reset_position(move_proxy)\n",
    "pepper_service_questions = [\"How are you finding the service today?\", \n",
    "                            \"Was this service ok?\", \"Did I stand close enough to you?\",\n",
    "                           \"Did I stand to far from you?\", \"Would you like me to move slower?\", \n",
    "                           \"Would you like me to move faster?\"]"
   ]
  },
  {
   "cell_type": "code",
   "execution_count": null,
   "metadata": {},
   "outputs": [],
   "source": []
  },
  {
   "cell_type": "code",
   "execution_count": null,
   "metadata": {},
   "outputs": [],
   "source": []
  },
  {
   "cell_type": "code",
   "execution_count": 6,
   "metadata": {},
   "outputs": [
    {
     "ename": "SyntaxError",
     "evalue": "invalid syntax (<ipython-input-6-b4e751dc491d>, line 1)",
     "output_type": "error",
     "traceback": [
      "\u001b[0;36m  File \u001b[0;32m\"<ipython-input-6-b4e751dc491d>\"\u001b[0;36m, line \u001b[0;32m1\u001b[0m\n\u001b[0;31m    class Pepper()\u001b[0m\n\u001b[0m                  ^\u001b[0m\n\u001b[0;31mSyntaxError\u001b[0m\u001b[0;31m:\u001b[0m invalid syntax\n"
     ]
    }
   ],
   "source": [
    "class PepperControl:\n",
    "    IP = \"127.0.0.1\"\n",
    "    port = 40947\n",
    "    def __init__(self, IP, PORT):\n",
    "        self.PORT = PORT\n",
    "        self.IP = IP\n",
    "        self.tts_proxy = ALProxy(\"ALTextToSpeech\", self.IP, self.port)\n",
    "        self.move_proxy = ALProxy(\"ALNavigation\", self.IP, self.port)\n",
    "        self.motion_proxy = ALProxy('ALMotion', self.IP, self.port)\n",
    "        self.speed = 1\n",
    "        self.reverse_movements = []\n",
    "        \n",
    "    def move_pepper(curr_x, curr_y, action, speed_change, proxy):\n",
    "        codes = {'U':[-1.0, 0.0], 'D':[1.0, 0.0], 'R':[0.0, 1.0], 'L':[0, -1.0]}\n",
    "        inverse_codes =  {'U': 'D', 'D':'U', 'R':'L', 'L':'R'}\n",
    "            \n",
    "        # Speed is inverse\n",
    "        self.speed = self.speed - speed_instruction\n",
    "\n",
    "       \n",
    "        movement = codes[action]\n",
    "        self.inverse_movements.append(inverse_codes[action])\n",
    "        \n",
    "        \n",
    "\n",
    "        proxy.moveAlong([\"Holonomic\", [\"Line\", movement], 0.0, speed])\n",
    "        return True\n",
    "    \n",
    "    def return_to_start():\n",
    "        \n",
    "        for i in range(len(self.inverse_movements))\n",
    "            move_\n",
    "        \n",
    "        self.inverse_movements = []\n"
   ]
  }
 ],
 "metadata": {
  "kernelspec": {
   "display_name": "Python 2",
   "language": "python",
   "name": "python2"
  },
  "language_info": {
   "codemirror_mode": {
    "name": "ipython",
    "version": 2
   },
   "file_extension": ".py",
   "mimetype": "text/x-python",
   "name": "python",
   "nbconvert_exporter": "python",
   "pygments_lexer": "ipython2",
   "version": "2.7.18"
  }
 },
 "nbformat": 4,
 "nbformat_minor": 2
}
