{
 "cells": [
  {
   "cell_type": "code",
   "execution_count": 2,
   "metadata": {},
   "outputs": [
    {
     "ename": "KeyboardInterrupt",
     "evalue": "",
     "output_type": "error",
     "traceback": [
      "\u001b[0;31m---------------------------------------------------------------------------\u001b[0m",
      "\u001b[0;31mKeyboardInterrupt\u001b[0m                         Traceback (most recent call last)",
      "\u001b[0;32m<ipython-input-2-476a864c37a5>\u001b[0m in \u001b[0;36m<module>\u001b[0;34m()\u001b[0m\n\u001b[1;32m     36\u001b[0m \u001b[0;34m\u001b[0m\u001b[0m\n\u001b[1;32m     37\u001b[0m         \u001b[0;31m# translate value to mat\u001b[0m\u001b[0;34m\u001b[0m\u001b[0;34m\u001b[0m\u001b[0m\n\u001b[0;32m---> 38\u001b[0;31m         \u001b[0mvalues\u001b[0m \u001b[0;34m=\u001b[0m \u001b[0mmap\u001b[0m\u001b[0;34m(\u001b[0m\u001b[0mord\u001b[0m\u001b[0;34m,\u001b[0m \u001b[0mlist\u001b[0m\u001b[0;34m(\u001b[0m\u001b[0mresult\u001b[0m\u001b[0;34m[\u001b[0m\u001b[0;36m6\u001b[0m\u001b[0;34m]\u001b[0m\u001b[0;34m)\u001b[0m\u001b[0;34m)\u001b[0m\u001b[0;34m\u001b[0m\u001b[0m\n\u001b[0m\u001b[1;32m     39\u001b[0m         \u001b[0mi\u001b[0m \u001b[0;34m=\u001b[0m \u001b[0;36m0\u001b[0m\u001b[0;34m\u001b[0m\u001b[0m\n\u001b[1;32m     40\u001b[0m         \u001b[0;32mfor\u001b[0m \u001b[0my\u001b[0m \u001b[0;32min\u001b[0m \u001b[0mrange\u001b[0m\u001b[0;34m(\u001b[0m\u001b[0;36m0\u001b[0m\u001b[0;34m,\u001b[0m \u001b[0mheight\u001b[0m\u001b[0;34m)\u001b[0m\u001b[0;34m:\u001b[0m\u001b[0;34m\u001b[0m\u001b[0m\n",
      "\u001b[0;31mKeyboardInterrupt\u001b[0m: "
     ]
    }
   ],
   "source": [
    "# vim: set fileencoding=utf-8 :\n",
    "import sys\n",
    "import numpy as np\n",
    "import cv2\n",
    "from naoqi import ALProxy\n",
    "\n",
    "\n",
    "IP = \"127.0.0.1\"\n",
    "port = 37847\n",
    "\n",
    "# get NAOqi module proxy\n",
    "videoDevice = ALProxy('ALVideoDevice', IP, port)\n",
    "\n",
    "# subscribe top camera\n",
    "AL_kTopCamera = 0\n",
    "AL_kQVGA = 1            # 320x240\n",
    "AL_kBGRColorSpace = 13\n",
    "captureDevice = videoDevice.subscribeCamera(\n",
    "    \"test\", AL_kTopCamera, AL_kQVGA, AL_kBGRColorSpace, 10)\n",
    "\n",
    "# create image\n",
    "width = 320\n",
    "height = 240\n",
    "image = np.zeros((height, width, 3), np.uint8)\n",
    "\n",
    "while True:\n",
    "\n",
    "    # get image\n",
    "    result = videoDevice.getImageRemote(captureDevice);\n",
    "\n",
    "    if result == None:\n",
    "        print 'cannot capture.'\n",
    "    elif result[6] == None:\n",
    "        print 'no image data string.'\n",
    "    else:\n",
    "\n",
    "        # translate value to mat\n",
    "        values = map(ord, list(result[6]))\n",
    "        i = 0\n",
    "        for y in range(0, height):\n",
    "            for x in range(0, width):\n",
    "                image.itemset((y, x, 0), values[i + 0])\n",
    "                image.itemset((y, x, 1), values[i + 1])\n",
    "                image.itemset((y, x, 2), values[i + 2])\n",
    "                i += 3\n",
    "\n",
    "        # show image\n",
    "        cv2.imshow(\"pepper-top-camera-320x240\", image)\n",
    "\n",
    "    # exit by [ESC]\n",
    "    if cv2.waitKey(33) == 27:\n",
    "        break"
   ]
  },
  {
   "cell_type": "code",
   "execution_count": null,
   "metadata": {},
   "outputs": [],
   "source": []
  }
 ],
 "metadata": {
  "kernelspec": {
   "display_name": "Python 2",
   "language": "python",
   "name": "python2"
  },
  "language_info": {
   "codemirror_mode": {
    "name": "ipython",
    "version": 2
   },
   "file_extension": ".py",
   "mimetype": "text/x-python",
   "name": "python",
   "nbconvert_exporter": "python",
   "pygments_lexer": "ipython2",
   "version": "2.7.18"
  }
 },
 "nbformat": 4,
 "nbformat_minor": 2
}
