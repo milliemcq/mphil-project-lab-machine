{
 "cells": [
  {
   "cell_type": "code",
   "execution_count": 1,
   "metadata": {},
   "outputs": [
    {
     "name": "stdout",
     "output_type": "stream",
     "text": [
      "\n",
      "C:\\Users\\Nick\\Desktop\\pynaoqi-python2.7-2.5.7.1-win32-vs2013\\lib\n",
      "c:\\users\\nick\\anaconda3\\envs\\py27_32bit\\python27.zip\n",
      "c:\\users\\nick\\anaconda3\\envs\\py27_32bit\\DLLs\n",
      "c:\\users\\nick\\anaconda3\\envs\\py27_32bit\\lib\n",
      "c:\\users\\nick\\anaconda3\\envs\\py27_32bit\\lib\\plat-win\n",
      "c:\\users\\nick\\anaconda3\\envs\\py27_32bit\\lib\\lib-tk\n",
      "c:\\users\\nick\\anaconda3\\envs\\py27_32bit\n",
      "c:\\users\\nick\\anaconda3\\envs\\py27_32bit\\lib\\site-packages\n",
      "c:\\users\\nick\\anaconda3\\envs\\py27_32bit\\lib\\site-packages\\win32\n",
      "c:\\users\\nick\\anaconda3\\envs\\py27_32bit\\lib\\site-packages\\win32\\lib\n",
      "c:\\users\\nick\\anaconda3\\envs\\py27_32bit\\lib\\site-packages\\Pythonwin\n",
      "c:\\users\\nick\\anaconda3\\envs\\py27_32bit\\lib\\site-packages\\IPython\\extensions\n",
      "C:\\Users\\Nick\\.ipython\n"
     ]
    }
   ],
   "source": [
    "import sys\n",
    "print \"\\n\".join(sys.path)"
   ]
  },
  {
   "cell_type": "code",
   "execution_count": 3,
   "metadata": {},
   "outputs": [],
   "source": [
    "from naoqi import ALProxy\n",
    "IP = \"127.0.0.1\"\n",
    "port = 51298"
   ]
  },
  {
   "cell_type": "code",
   "execution_count": 8,
   "metadata": {},
   "outputs": [],
   "source": [
    "tts = ALProxy(\"ALTextToSpeech\", IP, port)\n",
    "tts.say(\"Hello, world!\")"
   ]
  },
  {
   "cell_type": "code",
   "execution_count": null,
   "metadata": {},
   "outputs": [],
   "source": []
  }
 ],
 "metadata": {
  "kernelspec": {
   "display_name": "Python 2",
   "language": "python",
   "name": "python2"
  },
  "language_info": {
   "codemirror_mode": {
    "name": "ipython",
    "version": 2
   },
   "file_extension": ".py",
   "mimetype": "text/x-python",
   "name": "python",
   "nbconvert_exporter": "python",
   "pygments_lexer": "ipython2",
   "version": "2.7.18"
  }
 },
 "nbformat": 4,
 "nbformat_minor": 2
}
