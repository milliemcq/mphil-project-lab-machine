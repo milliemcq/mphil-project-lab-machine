{
 "cells": [
  {
   "cell_type": "code",
   "execution_count": 58,
   "metadata": {},
   "outputs": [],
   "source": [
    "# Tutorial https://developer.softbankrobotics.com/pepper-naoqi-25/naoqi-developer-guide/naoqi-apis/naoqi-people-perception/alfacedetection-1#alfacedetection-tuto\n",
    "from naoqi import ALProxy\n",
    "import qi\n",
    "IP = \"pepper.local\"\n",
    "PORT = 9559"
   ]
  },
  {
   "cell_type": "code",
   "execution_count": 59,
   "metadata": {},
   "outputs": [],
   "source": [
    "session = qi.Session()\n",
    "session.connect(\"tcp://\" + str(IP) + \":\" + str(PORT))\n",
    "animation_player_service = session.service(\"ALAnimationPlayer\")"
   ]
  },
  {
   "cell_type": "code",
   "execution_count": 60,
   "metadata": {},
   "outputs": [],
   "source": [
    "animation_player_service.run(\"animations/Stand/Emotions/Positive/Hysterical_1\")\n"
   ]
  },
  {
   "cell_type": "code",
   "execution_count": 50,
   "metadata": {},
   "outputs": [],
   "source": [
    "potential_speaking_gestures = [\"animations/Stand/Emotions/Positive/Happy_4\", \n",
    "                               \"animations/Stand/Gestures/Choice_1\", \n",
    "                               \"animations/Stand/Gestures/Excited_1\", \n",
    "                               \"animations/Stand/Gestures/Explain_1\",\n",
    "                               \"animations/Stand/Gestures/Explain_10\",\n",
    "                               \"animations/Stand/Gestures/Explain_11\",\n",
    "                               \"animations/Stand/Gestures/Explain_2\",\n",
    "                               \"animations/Stand/Gestures/Explain_3\",\n",
    "                               \"animations/Stand/Gestures/Explain_4\", \n",
    "                               \"animations/Stand/Gestures/Explain_5\",\n",
    "                               \"animations/Stand/Gestures/Explain_6\", \n",
    "                               \"animations/Stand/Gestures/Explain_7\", \n",
    "                               \"animations/Stand/Gestures/Explain_8\", \n",
    "                               \"animations/Stand/Gestures/Give_3\", \n",
    "                               \"animations/Stand/Gestures/Give_4\", \n",
    "                               \"animations/Stand/Gestures/Give_5\", \n",
    "                               \"animations/Stand/Gestures/Give_6\", \n",
    "                               \"animations/Stand/Gestures/Me_1\",\n",
    "                               \"animations/Stand/Gestures/Me_2\",\n",
    "                               \"animations/Stand/Gestures/Me_4\",\n",
    "                               \"animations/Stand/Gestures/Me_7\",\n",
    "                               \"animations/Stand/Gestures/Yes_1\",\n",
    "                               \"animations/Stand/Gestures/Yes_2\",\n",
    "                               \"animations/Stand/Gestures/Yes_3\"]"
   ]
  },
  {
   "cell_type": "code",
   "execution_count": 71,
   "metadata": {},
   "outputs": [],
   "source": [
    "import time\n",
    "time.sleep(4)\n",
    "\n",
    "anim_speech_service = session.service(\"ALAnimatedSpeech\")\n",
    "\n",
    "anim_speech_service.say(\"^start(animations/Stand/Emotions/Positive/Hysterical_1) Happy Mother's day Lindfield U.R.C\")\n",
    "# animation_player_service.run(\"animations/Stand/Gestures/Hey_1\")"
   ]
  },
  {
   "cell_type": "code",
   "execution_count": null,
   "metadata": {},
   "outputs": [],
   "source": []
  }
 ],
 "metadata": {
  "kernelspec": {
   "display_name": "Python 2",
   "language": "python",
   "name": "python2"
  },
  "language_info": {
   "codemirror_mode": {
    "name": "ipython",
    "version": 2
   },
   "file_extension": ".py",
   "mimetype": "text/x-python",
   "name": "python",
   "nbconvert_exporter": "python",
   "pygments_lexer": "ipython2",
   "version": "2.7.18"
  }
 },
 "nbformat": 4,
 "nbformat_minor": 2
}
